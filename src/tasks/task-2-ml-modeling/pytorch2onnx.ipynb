{
  "nbformat": 4,
  "nbformat_minor": 0,
  "metadata": {
    "colab": {
      "provenance": [],
      "authorship_tag": "ABX9TyNGoQ4snEVCmpiMB4QPn8v5",
      "include_colab_link": true
    },
    "kernelspec": {
      "name": "python3",
      "display_name": "Python 3"
    },
    "language_info": {
      "name": "python"
    }
  },
  "cells": [
    {
      "cell_type": "markdown",
      "metadata": {
        "id": "view-in-github",
        "colab_type": "text"
      },
      "source": [
        "<a href=\"https://colab.research.google.com/gist/sabdha/79b18ac47338787a7cdf82dd635ddd64/pytorch2onnx.ipynb\" target=\"_parent\"><img src=\"https://colab.research.google.com/assets/colab-badge.svg\" alt=\"Open In Colab\"/></a>"
      ]
    },
    {
      "cell_type": "code",
      "execution_count": null,
      "metadata": {
        "id": "ohnPYebjCBXN"
      },
      "outputs": [],
      "source": []
    },
    {
      "cell_type": "code",
      "execution_count": null,
      "metadata": {
        "id": "iWwKSu-QWL5l",
        "colab": {
          "base_uri": "https://localhost:8080/"
        },
        "outputId": "63932b9f-b745-4a8e-80b2-c8c749a1a5b7"
      },
      "outputs": [
        {
          "output_type": "stream",
          "name": "stderr",
          "text": [
            "/usr/local/lib/python3.7/dist-packages/torchvision/models/_utils.py:209: UserWarning: The parameter 'pretrained' is deprecated since 0.13 and will be removed in 0.15, please use 'weights' instead.\n",
            "  f\"The parameter '{pretrained_param}' is deprecated since 0.13 and will be removed in 0.15, \"\n",
            "/usr/local/lib/python3.7/dist-packages/torchvision/models/_utils.py:223: UserWarning: Arguments other than a weight enum or `None` for 'weights' are deprecated since 0.13 and will be removed in 0.15. The current behavior is equivalent to passing `weights=ResNet18_Weights.IMAGENET1K_V1`. You can also use `weights=ResNet18_Weights.DEFAULT` to get the most up-to-date weights.\n",
            "  warnings.warn(msg)\n"
          ]
        }
      ],
      "source": [
        "import torch\n",
        "import torchvision.models as models\n",
        "import torch.nn as nn\n",
        "model = models.resnet18(pretrained=True)\n",
        "model.fc = nn.Sequential(\n",
        "    nn.Linear(512, 1, bias = True),\n",
        "    nn.Sigmoid())"
      ]
    },
    {
      "cell_type": "code",
      "source": [
        "model.eval()"
      ],
      "metadata": {
        "id": "_vaTfp-S8Eme"
      },
      "execution_count": null,
      "outputs": []
    },
    {
      "cell_type": "code",
      "source": [
        "dummy_input = torch.randn(1, 3, 224, 224)"
      ],
      "metadata": {
        "id": "bPq4kcuW8M1V"
      },
      "execution_count": null,
      "outputs": []
    },
    {
      "cell_type": "code",
      "source": [
        "input_names = [ \"actual_input\" ]\n",
        "output_names = [ \"output\" ]"
      ],
      "metadata": {
        "id": "tqylkQK8-TqJ"
      },
      "execution_count": null,
      "outputs": []
    },
    {
      "cell_type": "code",
      "source": [
        "checkpoint = torch.load(r\"/content/resnet18_best.pth\", map_location='cpu')\n",
        "print('Loading trained model weights...')\n",
        "model.load_state_dict(checkpoint)"
      ],
      "metadata": {
        "colab": {
          "base_uri": "https://localhost:8080/"
        },
        "id": "i7wNI2g68Sfd",
        "outputId": "117ff053-a640-42a3-e2d4-01f3e01d0b78"
      },
      "execution_count": null,
      "outputs": [
        {
          "output_type": "stream",
          "name": "stdout",
          "text": [
            "Loading trained model weights...\n"
          ]
        },
        {
          "output_type": "execute_result",
          "data": {
            "text/plain": [
              "<All keys matched successfully>"
            ]
          },
          "metadata": {},
          "execution_count": 16
        }
      ]
    },
    {
      "cell_type": "code",
      "source": [
        "torch.onnx.export(model, \n",
        "                  dummy_input,\n",
        "                  \"resnet18.onnx\",\n",
        "                  verbose=False,\n",
        "                  input_names=input_names,\n",
        "                  output_names=output_names,\n",
        "                  export_params=True,\n",
        "                  )"
      ],
      "metadata": {
        "id": "p_yFrP4v_LwR"
      },
      "execution_count": null,
      "outputs": []
    }
  ]
}