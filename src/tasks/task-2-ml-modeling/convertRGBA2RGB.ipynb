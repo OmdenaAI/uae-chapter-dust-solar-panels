{
 "cells": [
  {
   "cell_type": "code",
   "execution_count": 1,
   "id": "5e00c141",
   "metadata": {},
   "outputs": [
    {
     "name": "stderr",
     "output_type": "stream",
     "text": [
      "C:\\Users\\dhany\\anaconda3\\lib\\site-packages\\numpy\\_distributor_init.py:30: UserWarning: loaded more than 1 DLL from .libs:\n",
      "C:\\Users\\dhany\\anaconda3\\lib\\site-packages\\numpy\\.libs\\libopenblas.NOIJJG62EMASZI6NYURL6JBKM4EVBGM7.gfortran-win_amd64.dll\n",
      "C:\\Users\\dhany\\anaconda3\\lib\\site-packages\\numpy\\.libs\\libopenblas.WCDJNK7YVMPZQ2ME2ZZHJJRJ3JIKNDB7.gfortran-win_amd64.dll\n",
      "  warnings.warn(\"loaded more than 1 DLL from .libs:\"\n"
     ]
    }
   ],
   "source": [
    "from PIL import Image\n",
    "import numpy as np\n",
    "import matplotlib.pyplot as plt\n",
    "import os\n",
    "#import image_utils_updated as ps"
   ]
  },
  {
   "cell_type": "code",
   "execution_count": 2,
   "id": "3cb727ff",
   "metadata": {},
   "outputs": [
    {
     "name": "stdout",
     "output_type": "stream",
     "text": [
      "(217, 605, 3)\n",
      "dirtynew5.jpg\n"
     ]
    }
   ],
   "source": [
    "for i in (os.listdir(r\"C:\\Users\\dhany\\Downloads\\solar_newdata\\dusty\\dirtynew\")):\n",
    "    if np.array(Image.open(r\"C:\\Users\\dhany\\Downloads\\solar_newdata\\dusty\\dirtynew\"+'/'+str(i))).shape[2] == 4:\n",
    "        img = Image.fromarray(np.array(Image.open(r\"C:\\Users\\dhany\\Downloads\\solar_newdata\\dusty\\dirtynew\"+'/'+i))).convert('RGB')\n",
    "        print(np.array(img).shape)\n",
    "        img.save(r\"C:\\Users\\dhany\\Downloads\\solar_newdata\\dusty\\dirtynew\"+'/'+i)\n",
    "        img.show()\n",
    "        print(i)"
   ]
  },
  {
   "cell_type": "code",
   "execution_count": 3,
   "id": "04d6fafe",
   "metadata": {},
   "outputs": [],
   "source": [
    "for i in (os.listdir(r\"C:\\Users\\dhany\\Downloads\\solar_newdata\\clean\\clean\")):\n",
    "    if np.array(Image.open(r\"C:\\Users\\dhany\\Downloads\\solar_newdata\\clean\\clean\"+'/'+str(i))).shape[2] == 4:\n",
    "        img = Image.fromarray(np.array(Image.open(r\"C:\\Users\\dhany\\Downloads\\solar_newdata\\clean\\clean\"+'/'+i))).convert('RGB')\n",
    "        print(np.array(img).shape)\n",
    "        img.save(r\"C:\\Users\\dhany\\Downloads\\solar_newdata\\clean\\clean\"+'/'+i)\n",
    "        img.show()\n",
    "        print(i)"
   ]
  },
  {
   "cell_type": "code",
   "execution_count": null,
   "id": "3bd7f681",
   "metadata": {},
   "outputs": [],
   "source": []
  }
 ],
 "metadata": {
  "kernelspec": {
   "display_name": "Python 3 (ipykernel)",
   "language": "python",
   "name": "python3"
  },
  "language_info": {
   "codemirror_mode": {
    "name": "ipython",
    "version": 3
   },
   "file_extension": ".py",
   "mimetype": "text/x-python",
   "name": "python",
   "nbconvert_exporter": "python",
   "pygments_lexer": "ipython3",
   "version": "3.8.8"
  }
 },
 "nbformat": 4,
 "nbformat_minor": 5
}
